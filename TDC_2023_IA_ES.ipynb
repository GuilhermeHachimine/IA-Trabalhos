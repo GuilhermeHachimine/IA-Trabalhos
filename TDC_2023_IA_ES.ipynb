{
  "nbformat": 4,
  "nbformat_minor": 0,
  "metadata": {
    "colab": {
      "provenance": [],
      "include_colab_link": true
    },
    "kernelspec": {
      "name": "python3",
      "display_name": "Python 3"
    },
    "language_info": {
      "name": "python"
    }
  },
  "cells": [
    {
      "cell_type": "markdown",
      "metadata": {
        "id": "view-in-github",
        "colab_type": "text"
      },
      "source": [
        "<a href=\"https://colab.research.google.com/github/GuilhermeHachimine/IA-Trabalhos/blob/main/TDC_2023_IA_ES.ipynb\" target=\"_parent\"><img src=\"https://colab.research.google.com/assets/colab-badge.svg\" alt=\"Open In Colab\"/></a>"
      ]
    },
    {
      "cell_type": "markdown",
      "source": [
        "# Explorando o Uso de Ferramentas Como o ChatGPT no Processo de Desenvolvimento de Software\n",
        "\n",
        "Aqui serão ilustradas duas práticas:\n",
        "\n",
        "\n",
        "1.   Uso do ChatGPT para testes automáticos em Python;\n",
        "2.   Uso do ChatGPT para a geração automática de documentações.\n",
        "\n",
        "\n",
        "Autor: Geraldo Gomes\n",
        "Dúvidas: geraldo.junior@zup.com.br"
      ],
      "metadata": {
        "id": "PaCZVfsduilM"
      }
    },
    {
      "cell_type": "markdown",
      "source": [
        "## ChatGPT para testes automáticos em Python"
      ],
      "metadata": {
        "id": "3kEPMWT-uj_X"
      }
    },
    {
      "cell_type": "markdown",
      "source": [
        "1. Instale a biblioteca OpenAI API do ChatGPT:"
      ],
      "metadata": {
        "id": "yLn01RwjwJHV"
      }
    },
    {
      "cell_type": "code",
      "execution_count": null,
      "metadata": {
        "id": "fmSmQx9Mue8Q"
      },
      "outputs": [],
      "source": [
        "! pip install openai"
      ]
    },
    {
      "cell_type": "markdown",
      "source": [
        "2. Crie um arquivo que contenha o conjunto de comandos de teste em formato de texto simples. Por exemplo:\n",
        "\n",
        "Inserir novo usuário:\n",
        "- Clicar no botão \"Novo usuário\"\n",
        "- Preencher o nome do usuário\n",
        "- Preencher o e-mail do usuário\n",
        "- Clicar no botão \"Salvar\"\n",
        "\n",
        "Visualizar usuários cadastrados:\n",
        "- Clicar no botão \"Usuários\"\n",
        "- Verificar se a lista de usuários é exibida corretamente"
      ],
      "metadata": {
        "id": "S2GBO5dGv_B2"
      }
    },
    {
      "cell_type": "markdown",
      "source": [
        "3. Utilize a API do ChatGPT para treinar o modelo com esses comandos de teste e exemplos de entradas e saídas esperadas. Por exemplo:\n"
      ],
      "metadata": {
        "id": "quzf3oYJwICy"
      }
    },
    {
      "cell_type": "code",
      "source": [
        "import openai\n",
        "\n",
        "openai.api_key = \"SUA_CHAVE_DE_API_AQUI\"\n",
        "\n",
        "# ou \n",
        "\n",
        "# import openai_secret_manager\n",
        "\n",
        "# assert \"openai\" in openai_secret_manager.get_services()\n",
        "# secrets = openai_secret_manager.get_secret(\"openai\")\n",
        "\n",
        "# print(secrets)\n",
        "\n",
        "prompts = \"\"\"\n",
        "Inserir novo usuário:\n",
        "- Clicar no botão \"Novo usuário\"\n",
        "- Preencher o nome do usuário\n",
        "- Preencher o e-mail do usuário\n",
        "- Clicar no botão \"Salvar\"\n",
        "\n",
        "Visualizar usuários cadastrados:\n",
        "- Clicar no botão \"Usuários\"\n",
        "- Verificar se a lista de usuários é exibida corretamente\n",
        "\"\"\"\n",
        "\n",
        "completions = openai.Completion.create(\n",
        "    engine=\"davinci-codex\",\n",
        "    prompt=prompts,\n",
        "    max_tokens=1024,\n",
        "    n=1,\n",
        "    stop=None,\n",
        "    temperature=0.7,\n",
        ")\n",
        "\n",
        "response = completions.choices[0].text"
      ],
      "metadata": {
        "id": "3uuvYQ-Bv9pJ"
      },
      "execution_count": null,
      "outputs": []
    },
    {
      "cell_type": "markdown",
      "source": [
        "Os atributos usados na chamada da função openai.Completion.create() são usados para controlar o comportamento do modelo de linguagem e gerar uma resposta com base no prompt fornecido. Aqui está uma breve explicação de cada um dos atributos:\n",
        "\n",
        "engine: Este atributo é usado para especificar qual modelo de linguagem será usado para gerar a resposta. Por exemplo, \"davinci-codex\" é um dos modelos mais poderosos da OpenAI, que pode ser usado para gerar código a partir de um prompt.\n",
        "\n",
        "prompt: Este atributo é usado para fornecer o prompt ou a entrada para o modelo de linguagem. O prompt é a entrada que o modelo de linguagem usa para gerar a resposta. Dependendo do caso de uso, o prompt pode ser uma pergunta, uma descrição de um problema ou qualquer outra entrada relevante.\n",
        "\n",
        "max_tokens: Este atributo é usado para limitar o comprimento da resposta gerada pelo modelo de linguagem. O valor do atributo max_tokens indica o número máximo de tokens que a resposta pode conter. Um token é uma unidade de texto, como uma palavra ou pontuação.\n",
        "\n",
        "n: Este atributo é usado para especificar o número de respostas que o modelo de linguagem deve gerar em resposta ao prompt fornecido. Por padrão, o valor de n é 1, o que significa que o modelo de linguagem irá gerar apenas uma resposta.\n",
        "\n",
        "stop: Este atributo é usado para indicar ao modelo de linguagem onde parar de gerar a resposta. O valor do atributo stop pode ser uma string que indica um caractere ou sequência de caracteres que o modelo de linguagem deve usar para parar de gerar a resposta.\n",
        "\n",
        "temperature: Este atributo é usado para controlar a criatividade do modelo de linguagem. Quanto maior o valor de temperature, mais criativa será a resposta gerada pelo modelo de linguagem. No entanto, uma temperatura muito alta pode levar o modelo de linguagem a gerar respostas não coerentes ou imprecisas."
      ],
      "metadata": {
        "id": "Jdptq6Rvyo6h"
      }
    },
    {
      "cell_type": "markdown",
      "source": [
        "Nesse exemplo, a API do ChatGPT é treinada com o modelo Davinci-Codex e recebe o conjunto de comandos de teste como prompt. O modelo gera automaticamente uma resposta com as saídas esperadas dos testes.\n"
      ],
      "metadata": {
        "id": "hKvUP3tHwZwu"
      }
    },
    {
      "cell_type": "markdown",
      "source": [
        "4. Utilize a resposta gerada pelo ChatGPT para executar automaticamente os testes no seu software. Por exemplo:\n"
      ],
      "metadata": {
        "id": "vqwO58auwnGF"
      }
    },
    {
      "cell_type": "code",
      "source": [
        "# Importe as bibliotecas necessárias para executar os testes\n",
        "import unittest\n",
        "from selenium import webdriver\n",
        "\n",
        "# Crie um teste de unidade para inserir um novo usuário\n",
        "class TestNovoUsuario(unittest.TestCase):\n",
        "    def setUp(self):\n",
        "        self.driver = webdriver.Firefox()\n",
        "\n",
        "    def test_inserir_novo_usuario(self):\n",
        "        self.driver.get(\"http://localhost:8080\")\n",
        "        self.driver.find_element_by_id(\"novo-usuario\").click()\n",
        "        self.driver.find_element_by_id(\"nome\").send_keys(\"João\")\n",
        "        self.driver.find_element_by_id(\"email\").send_keys(\"joao@gmail.com\")\n",
        "        self.driver.find_element_by_id(\"salvar\").click()\n",
        "        self.assertIn(\"Usuário salvo com sucesso\", self.driver.page_source)\n",
        "\n",
        "    def tearDown(self):\n",
        "        self.driver.quit()\n",
        "        \n",
        "# Crie um teste de unidade para visualizar usuários cadastrados\n",
        "class TestVisualizarUsuarios(unittest.TestCase):\n",
        "    def setUp(self):\n",
        "        self.driver = webdriver.Firefox()\n",
        "\n",
        "    def test_visualizar_usuarios_cadastrados(self):\n",
        "        self.driver.get(\"http://localhost:8080\")\n",
        "        self.driver.find_element_by_id(\"usuarios\").click()\n",
        "        self.assertIn(\"Lista de usuários\", self.driver.page_source)\n",
        "\n",
        "    def tearDown(self):\n",
        "        self.driver.quit()"
      ],
      "metadata": {
        "id": "t4UdduTYwocN"
      },
      "execution_count": null,
      "outputs": []
    },
    {
      "cell_type": "markdown",
      "source": [
        "## ChatGPT para a geração automática de documentações"
      ],
      "metadata": {
        "id": "b6a5LUGPw5qv"
      }
    },
    {
      "cell_type": "markdown",
      "source": [
        "1. Instale a biblioteca OpenAI com o seguinte comando:"
      ],
      "metadata": {
        "id": "JJnAgtzYw8hJ"
      }
    },
    {
      "cell_type": "code",
      "source": [
        "! pip install openai"
      ],
      "metadata": {
        "id": "9AQbMnF6w-hD"
      },
      "execution_count": null,
      "outputs": []
    },
    {
      "cell_type": "markdown",
      "source": [
        "2. Crie uma conta na OpenAI e obtenha sua chave de API."
      ],
      "metadata": {
        "id": "Q642m29OxAKv"
      }
    },
    {
      "cell_type": "markdown",
      "source": [
        "3. Crie um arquivo Python para usar a biblioteca OpenAI e o ChatGPT para gerar documentações para o seu projeto. Por exemplo:"
      ],
      "metadata": {
        "id": "kD0CtPB0xCXi"
      }
    },
    {
      "cell_type": "code",
      "source": [
        "import openai\n",
        "\n",
        "openai.api_key = \"sua-chave-de-api-da-openai\"\n",
        "\n",
        "def generate_documentation(prompt):\n",
        "    model_engine = \"text-davinci-002\"  # pode ser alterado para outro modelo do ChatGPT\n",
        "    response = openai.Completion.create(\n",
        "        engine=model_engine,\n",
        "        prompt=prompt,\n",
        "        max_tokens=1024,\n",
        "        n=1,\n",
        "        stop=None,\n",
        "        temperature=0.7,\n",
        "    )\n",
        "    return response.choices[0].text"
      ],
      "metadata": {
        "id": "fNyH7u84xE6B"
      },
      "execution_count": null,
      "outputs": []
    },
    {
      "cell_type": "markdown",
      "source": [
        "O código acima define uma função que recebe um texto prompt como entrada e retorna a documentação gerada pelo ChatGPT.\n"
      ],
      "metadata": {
        "id": "5ED2L7UZxHwq"
      }
    },
    {
      "cell_type": "markdown",
      "source": [
        "4. Use a função generate_documentation para gerar a documentação do seu projeto. Por exemplo:"
      ],
      "metadata": {
        "id": "Ol5ROdsoxJnr"
      }
    },
    {
      "cell_type": "code",
      "source": [
        "prompt = \"\"\"\n",
        "Escreva uma documentação para a classe Calculator.\n",
        "\n",
        "A classe Calculator possui os seguintes métodos:\n",
        "- add(a, b): retorna a soma de a e b.\n",
        "- subtract(a, b): retorna a diferença entre a e b.\n",
        "\"\"\"\n",
        "documentation = generate_documentation(prompt)\n",
        "\n",
        "with open(\"calculator-docs.txt\", \"w\") as f:\n",
        "    f.write(documentation)"
      ],
      "metadata": {
        "id": "0UZn2RQDxLxk"
      },
      "execution_count": null,
      "outputs": []
    },
    {
      "cell_type": "markdown",
      "source": [
        "O código acima gera a documentação da classe Calculator e a salva em um arquivo chamado calculator-docs.txt.\n",
        "\n",
        "Essa prática pode ser útil para gerar documentação inicial de projetos ou para gerar documentação de partes específicas de um projeto. No entanto, é importante lembrar que a qualidade da documentação gerada depende do modelo de linguagem natural usado pelo ChatGPT e da qualidade do texto prompt que é fornecido como entrada. Por isso, é recomendável revisar e editar a documentação gerada pelo ChatGPT para garantir sua precisão e qualidade.\n"
      ],
      "metadata": {
        "id": "fGPqX_RpxOcW"
      }
    }
  ]
}